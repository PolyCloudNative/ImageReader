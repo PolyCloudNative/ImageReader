{
 "cells": [
  {
   "cell_type": "code",
   "execution_count": 19,
   "id": "78319730",
   "metadata": {},
   "outputs": [
    {
     "name": "stdout",
     "output_type": "stream",
     "text": [
      "License plate number: 0Y19 XMG\n",
      "\n",
      "End of Computer Vision quickstart.\n"
     ]
    }
   ],
   "source": [
    "import os\n",
    "import time\n",
    "from azure.cognitiveservices.vision.computervision import ComputerVisionClient\n",
    "from azure.cognitiveservices.vision.computervision.models import OperationStatusCodes\n",
    "from msrest.authentication import CognitiveServicesCredentials\n",
    "\n",
    "# Set the environment variables using os.environ\n",
    "os.environ['COMPUTER_VISION_SUBSCRIPTION_KEY'] = 'xyzzzzzzzzzzzzzzzzzzzzzzzzzz'\n",
    "os.environ['COMPUTER_VISION_ENDPOINT'] = 'https://xyzzz.cognitiveservices.azure.com/'\n",
    "\n",
    "# Read the environment variables using os.environ\n",
    "subscription_key = os.environ['COMPUTER_VISION_SUBSCRIPTION_KEY']\n",
    "endpoint = os.environ['COMPUTER_VISION_ENDPOINT']\n",
    "\n",
    "# subscription_key = '96a5175a532f4c7e876c576e00cbc3fe'\n",
    "# endpoint = 'https://vehiclenp.cognitiveservices.azure.com/'\n",
    "credentials = CognitiveServicesCredentials(subscription_key)\n",
    "client = ComputerVisionClient(endpoint, credentials)\n",
    "computervision_client = ComputerVisionClient(endpoint, CognitiveServicesCredentials(subscription_key))\n",
    "\n",
    "# Load the image to extract text from\n",
    "image_url = \"https://carwow-uk-wp-2.imgix.net/LEAF-source-1-scaled-e1612178298223.jpg\"\n",
    "\n",
    "# Call the OCR method on the image\n",
    "read_response = computervision_client.read(image_url, raw=True)\n",
    "\n",
    "# Get the operation location (URL with an ID at the end) from the response\n",
    "read_operation_location = read_response.headers[\"Operation-Location\"]\n",
    "\n",
    "# Grab the ID from the URL\n",
    "operation_id = read_operation_location.split(\"/\")[-1]\n",
    "\n",
    "# Call the \"GET\" API and wait for it to retrieve the results\n",
    "while True:\n",
    "    read_result = computervision_client.get_read_result(operation_id)\n",
    "    if read_result.status not in ['notStarted', 'running']:\n",
    "        break\n",
    "    time.sleep(1)\n",
    "\n",
    "# Print the detected text and bounding box for each line\n",
    "if read_result.status == OperationStatusCodes.succeeded:\n",
    "    for text_result in read_result.analyze_result.read_results:\n",
    "        for line in text_result.lines:\n",
    "            # Check if the line contains a license plate number\n",
    "            if any(char.isdigit() for char in line.text) and any(char.isalpha() for char in line.text):\n",
    "                # Print the license plate number and bounding box\n",
    "                print(\"License plate number:\", line.text)\n",
    "                # Exit the loop if a license plate number is found\n",
    "                break\n",
    "        print()\n",
    "\n",
    "# End of code\n",
    "print(\"End of Computer Vision quickstart.\")\n"
   ]
  },
  {
   "cell_type": "code",
   "execution_count": null,
   "id": "4f9d4e22",
   "metadata": {},
   "outputs": [],
   "source": []
  },
  {
   "cell_type": "code",
   "execution_count": null,
   "id": "0741784e",
   "metadata": {},
   "outputs": [],
   "source": []
  }
 ],
 "metadata": {
  "kernelspec": {
   "display_name": "Python 3 (ipykernel)",
   "language": "python",
   "name": "python3"
  },
  "language_info": {
   "codemirror_mode": {
    "name": "ipython",
    "version": 3
   },
   "file_extension": ".py",
   "mimetype": "text/x-python",
   "name": "python",
   "nbconvert_exporter": "python",
   "pygments_lexer": "ipython3",
   "version": "3.10.9"
  }
 },
 "nbformat": 4,
 "nbformat_minor": 5
}
